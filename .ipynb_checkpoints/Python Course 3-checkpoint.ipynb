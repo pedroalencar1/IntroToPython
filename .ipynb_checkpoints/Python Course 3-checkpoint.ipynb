{
 "cells": [
  {
   "cell_type": "markdown",
   "id": "f4ff9bcf",
   "metadata": {},
   "source": [
    "<img alt=\"\" src=\"//upload.wikimedia.org/wikipedia/commons/thumb/2/2e/Logo_der_Technischen_Universit%C3%A4t_Berlin.svg/200px-Logo_der_Technischen_Universit%C3%A4t_Berlin.svg.png\" decoding=\"async\" width=\"150\" height=\"112\">\n",
    "\n",
    "# Python for ecohydrology\n",
    "\n",
    "Prof. Dr. Eva Paton & Dr. Pedro Alencar\n",
    "\n",
    "\n",
    "## Python - Crop Analysis\n",
    "\n",
    "This notebook presents:\n",
    "\n",
    "* WOFOST/PCSE"
   ]
  },
  {
   "cell_type": "markdown",
   "id": "fbe4b920",
   "metadata": {},
   "source": [
    "WOrld FOod STudies - WOFOST is a simulation model of growth and produciton of annual field crops. It is one of the key parts of the Global Yield Gap Atlas ([GYGA](http://www.yieldgap.org/)) and Monitoring Agricultural ResourceS ([MARS](https://joint-research-centre.ec.europa.eu/monitoring-agricultural-resources-mars_en)) initiatives.\n",
    "\n",
    "It can be easily accessed with the Python Crop Simulation Environment ([PCSE](https://pcse.readthedocs.io/en/stable/#)).\n",
    "\n",
    "For more information about WOFOST, visit their main [page](https://www.wur.nl/en/research-results/research-institutes/environmental-research/facilities-tools/software-models-and-databases/wofost.htm), where tips on [implementation](https://www.wur.nl/en/research-results/research-institutes/environmental-research/facilities-tools/software-models-and-databases/wofost/implementation-of-wofost.htm), and [downloads](https://www.wur.nl/en/research-results/research-institutes/environmental-research/facilities-tools/software-models-and-databases/wofost/downloads-wofost.htm), and [documentation](https://www.wur.nl/en/research-results/research-institutes/environmental-research/facilities-tools/software-models-and-databases/wofost/documentation-wofost.htm) are available.\n",
    "\n",
    "To use WOFOST in Python, first it is necessary to install it:"
   ]
  },
  {
   "cell_type": "code",
   "execution_count": 1,
   "id": "42abdc0f",
   "metadata": {
    "scrolled": false
   },
   "outputs": [
    {
     "name": "stdout",
     "output_type": "stream",
     "text": [
      "Requirement already satisfied: pcse in /Users/alencar/opt/anaconda3/lib/python3.9/site-packages (5.5.1)\n",
      "Requirement already satisfied: SQLAlchemy>=1.3.0 in /Users/alencar/opt/anaconda3/lib/python3.9/site-packages (from pcse) (1.3.15)\n",
      "Requirement already satisfied: xlrd>=1.2.0 in /Users/alencar/opt/anaconda3/lib/python3.9/site-packages (from pcse) (2.0.1)\n",
      "Requirement already satisfied: traitlets-pcse==5.0.0.dev in /Users/alencar/opt/anaconda3/lib/python3.9/site-packages (from pcse) (5.0.0.dev0)\n",
      "Requirement already satisfied: PyYAML>=5.1 in /Users/alencar/opt/anaconda3/lib/python3.9/site-packages (from pcse) (6.0)\n",
      "Requirement already satisfied: openpyxl>=3.0.0 in /Users/alencar/opt/anaconda3/lib/python3.9/site-packages (from pcse) (3.0.9)\n",
      "Requirement already satisfied: pandas>=0.25 in /Users/alencar/opt/anaconda3/lib/python3.9/site-packages (from pcse) (1.4.2)\n",
      "Requirement already satisfied: requests>=2.0.0 in /Users/alencar/opt/anaconda3/lib/python3.9/site-packages (from pcse) (2.23.0)\n",
      "Requirement already satisfied: decorator in /Users/alencar/opt/anaconda3/lib/python3.9/site-packages (from traitlets-pcse==5.0.0.dev->pcse) (5.1.1)\n",
      "Requirement already satisfied: ipython-genutils in /Users/alencar/opt/anaconda3/lib/python3.9/site-packages (from traitlets-pcse==5.0.0.dev->pcse) (0.2.0)\n",
      "Requirement already satisfied: six in /Users/alencar/opt/anaconda3/lib/python3.9/site-packages (from traitlets-pcse==5.0.0.dev->pcse) (1.16.0)\n",
      "Requirement already satisfied: et-xmlfile in /Users/alencar/opt/anaconda3/lib/python3.9/site-packages (from openpyxl>=3.0.0->pcse) (1.1.0)\n",
      "Requirement already satisfied: python-dateutil>=2.8.1 in /Users/alencar/opt/anaconda3/lib/python3.9/site-packages (from pandas>=0.25->pcse) (2.8.2)\n",
      "Requirement already satisfied: pytz>=2020.1 in /Users/alencar/opt/anaconda3/lib/python3.9/site-packages (from pandas>=0.25->pcse) (2021.3)\n",
      "Requirement already satisfied: numpy>=1.18.5 in /Users/alencar/opt/anaconda3/lib/python3.9/site-packages (from pandas>=0.25->pcse) (1.22.4)\n",
      "Requirement already satisfied: urllib3!=1.25.0,!=1.25.1,<1.26,>=1.21.1 in /Users/alencar/opt/anaconda3/lib/python3.9/site-packages (from requests>=2.0.0->pcse) (1.25.11)\n",
      "Requirement already satisfied: idna<3,>=2.5 in /Users/alencar/opt/anaconda3/lib/python3.9/site-packages (from requests>=2.0.0->pcse) (2.10)\n",
      "Requirement already satisfied: chardet<4,>=3.0.2 in /Users/alencar/opt/anaconda3/lib/python3.9/site-packages (from requests>=2.0.0->pcse) (3.0.4)\n",
      "Requirement already satisfied: certifi>=2017.4.17 in /Users/alencar/opt/anaconda3/lib/python3.9/site-packages (from requests>=2.0.0->pcse) (2021.10.8)\n",
      "Note: you may need to restart the kernel to use updated packages.\n"
     ]
    }
   ],
   "source": [
    "pip install pcse"
   ]
  },
  {
   "cell_type": "markdown",
   "id": "80d42f83",
   "metadata": {},
   "source": [
    "**Let's first import a few packages**"
   ]
  },
  {
   "cell_type": "code",
   "execution_count": 133,
   "id": "ff2926cf",
   "metadata": {},
   "outputs": [],
   "source": [
    "import sys, os\n",
    "\n",
    "import pandas as pd\n",
    "import numpy as np\n",
    "import seaborn as sns\n",
    "import matplotlib.pyplot as plt\n",
    "\n",
    "import datetime\n",
    "\n",
    "from IPython import display"
   ]
  },
  {
   "cell_type": "code",
   "execution_count": 4,
   "id": "96b00373",
   "metadata": {},
   "outputs": [
    {
     "name": "stdout",
     "output_type": "stream",
     "text": [
      "This notebook was built with:\n",
      "python version: 3.9.12 (main, Apr  5 2022, 01:53:17) \n",
      "[Clang 12.0.0 ] \n",
      "PCSE version: 5.5.1\n"
     ]
    }
   ],
   "source": [
    "import pcse\n",
    "print(\"This notebook was built with:\")\n",
    "print(\"python version: %s \" % sys.version)\n",
    "print(\"PCSE version: %s\" %  pcse.__version__)"
   ]
  },
  {
   "cell_type": "markdown",
   "id": "95791045",
   "metadata": {
    "slideshow": {
     "slide_type": "-"
    }
   },
   "source": [
    "It is important to define a path to all input files. Make sure that the [folder](https://github.com/pedroalencar1/IntroToPython) `Data_WOFOST` is placed in a know location in your computer."
   ]
  },
  {
   "cell_type": "code",
   "execution_count": 22,
   "id": "701502df",
   "metadata": {},
   "outputs": [],
   "source": [
    "data_dir = os.path.join(\"path/to/data/folder\")\n",
    "# data_dir = os.path.join(\"\")"
   ]
  },
  {
   "cell_type": "code",
   "execution_count": 25,
   "id": "7962a328",
   "metadata": {},
   "outputs": [],
   "source": [
    "data_dir = os.path.join(\"/Users/alencar/Library/CloudStorage/OneDrive-Personal/@_PostDoc/IntroToPython/Data_WOFOST\")"
   ]
  },
  {
   "cell_type": "markdown",
   "id": "70eeb033",
   "metadata": {},
   "source": [
    "In the data folder there are miltiple sub-folders with input data of WOFOST.\n",
    "\n",
    "1. agro: has the agromanagement files that provide to the model the crop calendar and management activities (if any)\n",
    "2. crop: has the crop parameter files for multiple calibrated crops, such as potato, wheat and corn\n",
    "3. meteo: has the weather input files, containing geographic location and meteorological variables P, Tmax, Tmin, Irrad, WS.\n",
    "4. soil: has the standard files with soil parameters\n",
    "\n",
    "\n",
    "_Obs: sub-folders `site` and `output` will not be used now._\n",
    "\n",
    "On soil parameters:\n",
    "<img alt=\"\" src=\"https://raw.githubusercontent.com/pedroalencar1/IntroToPython/master/Soil_parameters.png\" decoding=\"async\" width=\"850\">"
   ]
  },
  {
   "cell_type": "markdown",
   "id": "6132ecc7",
   "metadata": {},
   "source": [
    "### 1. Read paramenters\n",
    "\n",
    "#### **2.1. Crop parameters**\n",
    "\n",
    "Here we can list all available crops in the WOFOST files"
   ]
  },
  {
   "cell_type": "code",
   "execution_count": 26,
   "id": "f99f2501",
   "metadata": {},
   "outputs": [
    {
     "name": "stdout",
     "output_type": "stream",
     "text": [
      "crop 'barley', available varieties:\n",
      " - 'Spring_barley_301'\n",
      "crop 'cassava', available varieties:\n",
      " - 'Cassava_VanHeemst_1988'\n",
      "crop 'chickpea', available varieties:\n",
      " - 'Chickpea_VanHeemst_1988'\n",
      "crop 'cotton', available varieties:\n",
      " - 'Cotton_VanHeemst_1988'\n",
      "crop 'cowpea', available varieties:\n",
      " - 'Cowpea_VanHeemst_1988'\n",
      "crop 'fababean', available varieties:\n",
      " - 'Faba_bean_801'\n",
      "crop 'groundnut', available varieties:\n",
      " - 'Groundnut_VanHeemst_1988'\n",
      "crop 'maize', available varieties:\n",
      " - 'Maize_VanHeemst_1988'\n",
      " - 'Grain_maize_201'\n",
      " - 'Grain_maize_202'\n",
      " - 'Grain_maize_203'\n",
      " - 'Grain_maize_204'\n",
      " - 'Grain_maize_205'\n",
      "crop 'millet', available varieties:\n",
      " - 'Millet_VanHeemst_1988'\n",
      "crop 'mungbean', available varieties:\n",
      " - 'Mungbean_VanHeemst_1988'\n",
      "crop 'pigeonpea', available varieties:\n",
      " - 'Pigeonpea_VanHeemst_1988'\n",
      "crop 'potato', available varieties:\n",
      " - 'Potato_701'\n",
      " - 'Potato_702'\n",
      " - 'Potato_703'\n",
      " - 'Potato_704'\n",
      "crop 'rapeseed', available varieties:\n",
      " - 'Oilseed_rape_1001'\n",
      " - 'Oilseed_rape_1002'\n",
      " - 'Oilseed_rape_1003'\n",
      " - 'Oilseed_rape_1004'\n",
      "crop 'rice', available varieties:\n",
      " - 'Rice_501'\n",
      " - 'Rice_HYV_IR8'\n",
      " - 'Rice_IR64616H_DS'\n",
      " - 'Rice_IR64616H_WS'\n",
      " - 'Rice_IR64'\n",
      " - 'Rice_IR72'\n",
      " - 'Rice_IR72_DS'\n",
      " - 'Rice_IR72_WS'\n",
      " - 'Rice_IR8A'\n",
      "crop 'sorghum', available varieties:\n",
      " - 'Sorghum_VanHeemst_1988'\n",
      "crop 'soybean', available varieties:\n",
      " - 'Soybean_901'\n",
      " - 'Soybean_902'\n",
      " - 'Soybean_903'\n",
      " - 'Soybean_904'\n",
      " - 'Soybean_905'\n",
      " - 'Soybean_906'\n",
      " - 'Soybean_VanHeemst_1988'\n",
      "crop 'sugarbeet', available varieties:\n",
      " - 'Sugarbeet_601'\n",
      " - 'Sugarbeet_602'\n",
      " - 'Sugarbeet_603'\n",
      " - 'Sugarbeet_604'\n",
      "crop 'sugarcane', available varieties:\n",
      " - 'Sugarcane_VanHeemst_1988'\n",
      "crop 'sunflower', available varieties:\n",
      " - 'Sunflower_1101'\n",
      "crop 'sweetpotato', available varieties:\n",
      " - 'Sweetpotato_VanHeemst_1988'\n",
      "crop 'tobacco', available varieties:\n",
      " - 'Tobacco_VanHeemst_1988'\n",
      "crop 'wheat', available varieties:\n",
      " - 'Winter_wheat_101'\n",
      " - 'Winter_wheat_102'\n",
      " - 'Winter_wheat_103'\n",
      " - 'Winter_wheat_104'\n",
      " - 'Winter_wheat_105'\n",
      " - 'Winter_wheat_106'\n",
      " - 'Winter_wheat_107'\n",
      " - 'bermude'\n",
      " - 'apache'\n",
      "\n"
     ]
    }
   ],
   "source": [
    "from pcse.fileinput import YAMLCropDataProvider\n",
    "cropd = YAMLCropDataProvider()\n",
    "\n",
    "cropd.print_crops_varieties()"
   ]
  },
  {
   "cell_type": "code",
   "execution_count": 27,
   "id": "8f73cd8e",
   "metadata": {},
   "outputs": [],
   "source": [
    "cropd = YAMLCropDataProvider(fpath = os.path.join(data_dir,\"crop\"))\n",
    "# cropd.print_crops_varieties()\n",
    "\n",
    "cropd.set_active_crop('maize', 'Grain_maize_201')\n",
    "# print(yaml.dump(cropd, sort_keys=False, default_flow_style=False))"
   ]
  },
  {
   "cell_type": "markdown",
   "id": "6bf04a2a",
   "metadata": {},
   "source": [
    "#### **2.2. Soil parameters**\n",
    "\n",
    "The default values of soil parameters of WOFOST are derived from the European Soil Database V2.0 that separate the soils in 5 categoties, based on the containts of clay (C) and sand (S): \n",
    "\n",
    "1. Coarse (C < 18% and S > 65%)\n",
    "2. Medium (18 < C < 35% and S > 15% or C < 18% and 15 < S < 65%)\n",
    "3. Medium fine (C < 35% and S < 15%)\n",
    "4. Fine (35 < C < 60%)\n",
    "5. Very fine (C > 60%)\n",
    "\n",
    "Additionally there is a class for Peat soils (no mineral texture, designated by the number *9* and not available in WOFOST)\n",
    "\n",
    "For more, visit the [European soil satabase maps](https://esdac.jrc.ec.europa.eu/resource-type/european-soil-database-maps#)\n",
    "\n",
    "**Note:** Soil class is selected by directly providing an input file (available at the [WOFOST GitHub page](https://github.com/ajwdewit/WOFOST/tree/master/soild)). The default values are loaded as a dictionary. The values then can be changed individually to locally calibrated parameters (if available) or for synthetic values (to assess uncertainty)."
   ]
  },
  {
   "cell_type": "code",
   "execution_count": 28,
   "id": "e3e31170",
   "metadata": {},
   "outputs": [],
   "source": [
    "from pcse.fileinput import CABOFileReader\n",
    "\n",
    "soilfile = os.path.join(data_dir, 'soil', 'EC1.NEW')\n",
    "soild = CABOFileReader(soilfile)"
   ]
  },
  {
   "cell_type": "markdown",
   "id": "0035e230",
   "metadata": {},
   "source": [
    "#### 2.3 Site parameters\n",
    "\n",
    "Here we provide a few parameters relevant to the site location. Typically:\n",
    "* WAV - Initial amount of water in rootzone *in excess of wilting point* in cm. Value is limited to SMLIM\n",
    "* SMLIM - Maximum initial soil moisture in rooted zone (will be forced between SMW and SM0) (cm$^3$.cm$^{-3}$)\n",
    "* CO2 - Atmospheric CO2 level in ppm. Default 360"
   ]
  },
  {
   "cell_type": "code",
   "execution_count": 37,
   "id": "9d5e61e5",
   "metadata": {},
   "outputs": [
    {
     "name": "stdout",
     "output_type": "stream",
     "text": [
      "{'IFUNRN': 0, 'NOTINF': 0, 'SSI': 0.0, 'SSMAX': 0.0, 'WAV': 10.0, 'SMLIM': 0.4, 'CO2': 360}\n"
     ]
    }
   ],
   "source": [
    "from pcse.util import WOFOST72SiteDataProvider\n",
    "sited = WOFOST72SiteDataProvider(WAV=10) # not updating the dictionary with the new key\n",
    "sited['CO2'] = 360\n",
    "print(sited)"
   ]
  },
  {
   "cell_type": "markdown",
   "id": "b5542024",
   "metadata": {},
   "source": [
    "#### 2.4. Packaging all parameters\n",
    "\n",
    "_\"Finally, we need to pack the different sets of parameters into one variable using the `ParameterProvider`. This is needed because PCSE expects one variable that contains all parameter values.\"_"
   ]
  },
  {
   "cell_type": "code",
   "execution_count": 38,
   "id": "02cc0e51",
   "metadata": {},
   "outputs": [],
   "source": [
    "from pcse.base import ParameterProvider\n",
    "parameters = ParameterProvider(cropdata=cropd, soildata=soild, sitedata=sited)\n"
   ]
  },
  {
   "cell_type": "markdown",
   "id": "fc05f3f1",
   "metadata": {},
   "source": [
    "**Note:** The parameters values are loaded as a dictionary. The values then can be easily changed here for fine tuning  and tests\n",
    "\n",
    "To assess each one of the parameters dictionaries use:\n",
    "\n",
    "* Soil: parameters._soildata\n",
    "* Crop: parameters._cropdata\n",
    "* Site: parameters._sitedata"
   ]
  },
  {
   "cell_type": "code",
   "execution_count": 46,
   "id": "cc06b08f",
   "metadata": {
    "scrolled": true
   },
   "outputs": [
    {
     "data": {
      "text/plain": [
       "{'IFUNRN': 0,\n",
       " 'NOTINF': 0,\n",
       " 'SSI': 0.0,\n",
       " 'SSMAX': 0.0,\n",
       " 'WAV': 10.0,\n",
       " 'SMLIM': 0.4,\n",
       " 'CO2': 360}"
      ]
     },
     "execution_count": 46,
     "metadata": {},
     "output_type": "execute_result"
    }
   ],
   "source": [
    "parameters._sitedata"
   ]
  },
  {
   "cell_type": "markdown",
   "id": "1cbc55ce",
   "metadata": {},
   "source": [
    "Also at this stage you can easily change values of parameters"
   ]
  },
  {
   "cell_type": "code",
   "execution_count": 49,
   "id": "cdb95def",
   "metadata": {},
   "outputs": [
    {
     "data": {
      "text/plain": [
       "{'IFUNRN': 0,\n",
       " 'NOTINF': 0,\n",
       " 'SSI': 0.0,\n",
       " 'SSMAX': 0.0,\n",
       " 'WAV': 10.0,\n",
       " 'SMLIM': 0.4,\n",
       " 'CO2': 396}"
      ]
     },
     "execution_count": 49,
     "metadata": {},
     "output_type": "execute_result"
    }
   ],
   "source": [
    "parameters._sitedata['CO2'] = 396\n",
    "\n",
    "parameters._sitedata"
   ]
  },
  {
   "cell_type": "code",
   "execution_count": 78,
   "id": "e8a4d350",
   "metadata": {},
   "outputs": [],
   "source": [
    "parameters._soildata['RDMSOL'] = 120 #max root depth"
   ]
  },
  {
   "cell_type": "markdown",
   "id": "d09733ad",
   "metadata": {},
   "source": [
    "### 3. Read agromanagement\n",
    "\n",
    "The Agromanagement file provides to WOFOST basic information on the begining and end of the simulation for each year. "
   ]
  },
  {
   "cell_type": "code",
   "execution_count": 60,
   "id": "c0548d9a",
   "metadata": {},
   "outputs": [
    {
     "name": "stdout",
     "output_type": "stream",
     "text": [
      "!!python/object/new:pcse.fileinput.yaml_agro_loader.YAMLAgroManagementReader\n",
      "listitems:\n",
      "- 9999-01-01:\n",
      "    CropCalendar:\n",
      "      crop_end_date: yyyy-mm-dd\n",
      "      crop_end_type: maturity/harvest\n",
      "      crop_name: xxxxxx\n",
      "      crop_start_date: yyyy-mm-dd\n",
      "      crop_start_type: emergence/sowing\n",
      "      max_duration: xxx\n",
      "      variety_name: xxxxxx-yyy\n",
      "    StateEvents: null\n",
      "    TimedEvents: null\n",
      "\n"
     ]
    }
   ],
   "source": [
    "from pcse.fileinput import YAMLAgroManagementReader\n",
    "agromanagement_file = os.path.join(data_dir, 'agro', 'basic.agro')\n",
    "agromanagement = YAMLAgroManagementReader(agromanagement_file)\n",
    "print(agromanagement)"
   ]
  },
  {
   "cell_type": "markdown",
   "id": "7f9d6066",
   "metadata": {},
   "source": [
    "The agromanagement file can be edited as a dictionary"
   ]
  },
  {
   "cell_type": "code",
   "execution_count": 61,
   "id": "f9e47fcb",
   "metadata": {},
   "outputs": [],
   "source": [
    "year = 2019"
   ]
  },
  {
   "cell_type": "code",
   "execution_count": 62,
   "id": "395ee71a",
   "metadata": {},
   "outputs": [
    {
     "name": "stdout",
     "output_type": "stream",
     "text": [
      "!!python/object/new:pcse.fileinput.yaml_agro_loader.YAMLAgroManagementReader\n",
      "listitems:\n",
      "- 2019-01-01:\n",
      "    CropCalendar:\n",
      "      crop_end_date: yyyy-mm-dd\n",
      "      crop_end_type: maturity/harvest\n",
      "      crop_name: xxxxxx\n",
      "      crop_start_date: yyyy-mm-dd\n",
      "      crop_start_type: emergence/sowing\n",
      "      max_duration: xxx\n",
      "      variety_name: xxxxxx-yyy\n",
      "    StateEvents: null\n",
      "    TimedEvents: null\n",
      "\n"
     ]
    }
   ],
   "source": [
    "agromanagement[0][datetime.date(year, 1, 1)] = agromanagement[0][datetime.date(9999, 1, 1)]\n",
    "agromanagement[0].pop(datetime.date(9999, 1, 1))\n",
    "\n",
    "print(agromanagement)"
   ]
  },
  {
   "cell_type": "code",
   "execution_count": 74,
   "id": "5ce817bc",
   "metadata": {},
   "outputs": [
    {
     "name": "stdout",
     "output_type": "stream",
     "text": [
      "!!python/object/new:pcse.fileinput.yaml_agro_loader.YAMLAgroManagementReader\n",
      "listitems:\n",
      "- 2019-01-01:\n",
      "    CropCalendar:\n",
      "      crop_end_date: 2019-11-26\n",
      "      crop_end_type: harvest\n",
      "      crop_name: maize\n",
      "      crop_start_date: 2019-04-24\n",
      "      crop_start_type: sowing\n",
      "      max_duration: 264\n",
      "      variety_name: Grain_maize_201\n",
      "    StateEvents: null\n",
      "    TimedEvents: null\n",
      "\n"
     ]
    }
   ],
   "source": [
    "agromanagement[0][datetime.date(year, 1, 1)]['CropCalendar']['crop_name'] = parameters._cropdata.current_crop_name\n",
    "agromanagement[0][datetime.date(year, 1, 1)]['CropCalendar']['variety_name'] = parameters._cropdata.current_variety_name\n",
    "agromanagement[0][datetime.date(year, 1, 1)]['CropCalendar']['crop_start_date'] = datetime.date(year, 4, 24)\n",
    "agromanagement[0][datetime.date(year, 1, 1)]['CropCalendar']['crop_start_type'] = 'sowing' #or \"emergence\"\n",
    "agromanagement[0][datetime.date(year, 1, 1)]['CropCalendar']['crop_end_date'] = datetime.date(year, 11, 26)\n",
    "agromanagement[0][datetime.date(year, 1, 1)]['CropCalendar']['crop_end_type'] = \"harvest\" #or \"maturity\"\n",
    "agromanagement[0][datetime.date(year, 1, 1)]['CropCalendar']['max_duration'] = 264\n",
    "\n",
    "print(agromanagement)"
   ]
  },
  {
   "cell_type": "markdown",
   "id": "b5f3f8cf",
   "metadata": {},
   "source": [
    "### 3. Weather data\n",
    "\n",
    "Currently the easiest way to load weather data into WOFOST is using Excel files. A script in `R` was prepared to help generating these files from DWD data, however, it is not possible to read them directly, as most cells are interpreted as text instead of numeric.\n",
    "To solve this, the solution is to manually copy the generated files in R into a original (`basic_weather.xls`) with attention to make all cells as numeric (except dates)."
   ]
  },
  {
   "cell_type": "code",
   "execution_count": 76,
   "id": "3809a4b8",
   "metadata": {},
   "outputs": [
    {
     "name": "stdout",
     "output_type": "stream",
     "text": [
      "Weather data provided by: ExcelWeatherDataProvider\n",
      "--------Description---------\n",
      "Weather data for:\n",
      "Country: Germany\n",
      "Station: DWD-Potsdam\n",
      "Description: -\n",
      "Source: -\n",
      "Contact: -\n",
      "----Site characteristics----\n",
      "Elevation:   81.0\n",
      "Latitude:  52.381\n",
      "Longitude: 13.062\n",
      "Data available for 1980-01-01 - 2021-12-31\n",
      "Number of missing days: 0\n",
      "\n"
     ]
    }
   ],
   "source": [
    "from pcse.fileinput import ExcelWeatherDataProvider\n",
    "\n",
    "weatherfile = os.path.join(data_dir, 'meteo', 'potsdam1.xls')\n",
    "wdp = ExcelWeatherDataProvider(weatherfile)\n",
    "\n",
    "print(wdp)"
   ]
  },
  {
   "cell_type": "markdown",
   "id": "c4fedfac",
   "metadata": {},
   "source": [
    "### 4. Processing WOFOST\n",
    "\n",
    "Once the parameters and set, weather data provider loaded and agromanagement defined, the model can be run. \n",
    "\n",
    "Here we process the water limited and potential production scenarios"
   ]
  },
  {
   "cell_type": "code",
   "execution_count": 79,
   "id": "4a2e9977",
   "metadata": {},
   "outputs": [],
   "source": [
    "from pcse.models import Wofost72_WLP_FD, Wofost72_PP\n",
    "wofsim_wlp = Wofost72_WLP_FD(parameters, wdp, agromanagement) # water limited production\n",
    "wofsim_pp = Wofost72_PP(parameters, wdp, agromanagement) # potential production"
   ]
  },
  {
   "cell_type": "code",
   "execution_count": 80,
   "id": "58689cd8",
   "metadata": {},
   "outputs": [
    {
     "data": {
      "text/html": [
       "<div>\n",
       "<style scoped>\n",
       "    .dataframe tbody tr th:only-of-type {\n",
       "        vertical-align: middle;\n",
       "    }\n",
       "\n",
       "    .dataframe tbody tr th {\n",
       "        vertical-align: top;\n",
       "    }\n",
       "\n",
       "    .dataframe thead th {\n",
       "        text-align: right;\n",
       "    }\n",
       "</style>\n",
       "<table border=\"1\" class=\"dataframe\">\n",
       "  <thead>\n",
       "    <tr style=\"text-align: right;\">\n",
       "      <th></th>\n",
       "      <th>DVS</th>\n",
       "      <th>LAI</th>\n",
       "      <th>TAGP</th>\n",
       "      <th>TWSO</th>\n",
       "      <th>TWLV</th>\n",
       "      <th>TWST</th>\n",
       "      <th>TWRT</th>\n",
       "      <th>TRA</th>\n",
       "      <th>RD</th>\n",
       "      <th>SM</th>\n",
       "      <th>...</th>\n",
       "      <th>SS</th>\n",
       "      <th>DSS</th>\n",
       "      <th>RAIN_INF</th>\n",
       "      <th>RAIN_NOTINF</th>\n",
       "      <th>RIN</th>\n",
       "      <th>PERCT</th>\n",
       "      <th>PERC</th>\n",
       "      <th>LOSST</th>\n",
       "      <th>ET0</th>\n",
       "      <th>RR</th>\n",
       "    </tr>\n",
       "    <tr>\n",
       "      <th>day</th>\n",
       "      <th></th>\n",
       "      <th></th>\n",
       "      <th></th>\n",
       "      <th></th>\n",
       "      <th></th>\n",
       "      <th></th>\n",
       "      <th></th>\n",
       "      <th></th>\n",
       "      <th></th>\n",
       "      <th></th>\n",
       "      <th></th>\n",
       "      <th></th>\n",
       "      <th></th>\n",
       "      <th></th>\n",
       "      <th></th>\n",
       "      <th></th>\n",
       "      <th></th>\n",
       "      <th></th>\n",
       "      <th></th>\n",
       "      <th></th>\n",
       "      <th></th>\n",
       "    </tr>\n",
       "  </thead>\n",
       "  <tbody>\n",
       "    <tr>\n",
       "      <th>2019-11-22</th>\n",
       "      <td>2.0</td>\n",
       "      <td>0.015771</td>\n",
       "      <td>6665.421937</td>\n",
       "      <td>2171.954448</td>\n",
       "      <td>1430.665806</td>\n",
       "      <td>3062.801682</td>\n",
       "      <td>827.057645</td>\n",
       "      <td>0.000188</td>\n",
       "      <td>100.0</td>\n",
       "      <td>0.113800</td>\n",
       "      <td>...</td>\n",
       "      <td>0.0</td>\n",
       "      <td>0.0</td>\n",
       "      <td>None</td>\n",
       "      <td>None</td>\n",
       "      <td>0.0</td>\n",
       "      <td>20.686220</td>\n",
       "      <td>0.375484</td>\n",
       "      <td>19.486220</td>\n",
       "      <td>None</td>\n",
       "      <td>0.0</td>\n",
       "    </tr>\n",
       "    <tr>\n",
       "      <th>2019-11-23</th>\n",
       "      <td>2.0</td>\n",
       "      <td>0.015771</td>\n",
       "      <td>6665.421937</td>\n",
       "      <td>2171.954448</td>\n",
       "      <td>1430.665806</td>\n",
       "      <td>3062.801682</td>\n",
       "      <td>827.057645</td>\n",
       "      <td>0.000192</td>\n",
       "      <td>100.0</td>\n",
       "      <td>0.110000</td>\n",
       "      <td>...</td>\n",
       "      <td>0.0</td>\n",
       "      <td>0.0</td>\n",
       "      <td>None</td>\n",
       "      <td>None</td>\n",
       "      <td>0.0</td>\n",
       "      <td>21.061703</td>\n",
       "      <td>0.000000</td>\n",
       "      <td>19.861703</td>\n",
       "      <td>None</td>\n",
       "      <td>0.0</td>\n",
       "    </tr>\n",
       "    <tr>\n",
       "      <th>2019-11-24</th>\n",
       "      <td>2.0</td>\n",
       "      <td>0.015771</td>\n",
       "      <td>6665.421937</td>\n",
       "      <td>2171.954448</td>\n",
       "      <td>1430.665806</td>\n",
       "      <td>3062.801682</td>\n",
       "      <td>827.057645</td>\n",
       "      <td>0.000382</td>\n",
       "      <td>100.0</td>\n",
       "      <td>0.109992</td>\n",
       "      <td>...</td>\n",
       "      <td>0.0</td>\n",
       "      <td>0.0</td>\n",
       "      <td>None</td>\n",
       "      <td>None</td>\n",
       "      <td>0.0</td>\n",
       "      <td>21.061703</td>\n",
       "      <td>0.000000</td>\n",
       "      <td>19.861703</td>\n",
       "      <td>None</td>\n",
       "      <td>0.0</td>\n",
       "    </tr>\n",
       "    <tr>\n",
       "      <th>2019-11-25</th>\n",
       "      <td>2.0</td>\n",
       "      <td>0.015771</td>\n",
       "      <td>6665.421937</td>\n",
       "      <td>2171.954448</td>\n",
       "      <td>1430.665806</td>\n",
       "      <td>3062.801682</td>\n",
       "      <td>827.057645</td>\n",
       "      <td>0.000186</td>\n",
       "      <td>100.0</td>\n",
       "      <td>0.109976</td>\n",
       "      <td>...</td>\n",
       "      <td>0.0</td>\n",
       "      <td>0.0</td>\n",
       "      <td>None</td>\n",
       "      <td>None</td>\n",
       "      <td>0.0</td>\n",
       "      <td>21.061703</td>\n",
       "      <td>0.000000</td>\n",
       "      <td>19.861703</td>\n",
       "      <td>None</td>\n",
       "      <td>0.0</td>\n",
       "    </tr>\n",
       "    <tr>\n",
       "      <th>2019-11-26</th>\n",
       "      <td>2.0</td>\n",
       "      <td>0.015771</td>\n",
       "      <td>6665.421937</td>\n",
       "      <td>2171.954448</td>\n",
       "      <td>1430.665806</td>\n",
       "      <td>3062.801682</td>\n",
       "      <td>827.057645</td>\n",
       "      <td>0.000295</td>\n",
       "      <td>100.0</td>\n",
       "      <td>0.109965</td>\n",
       "      <td>...</td>\n",
       "      <td>0.0</td>\n",
       "      <td>0.0</td>\n",
       "      <td>None</td>\n",
       "      <td>None</td>\n",
       "      <td>0.0</td>\n",
       "      <td>21.061703</td>\n",
       "      <td>0.000000</td>\n",
       "      <td>19.861703</td>\n",
       "      <td>None</td>\n",
       "      <td>0.0</td>\n",
       "    </tr>\n",
       "  </tbody>\n",
       "</table>\n",
       "<p>5 rows × 33 columns</p>\n",
       "</div>"
      ],
      "text/plain": [
       "            DVS       LAI         TAGP         TWSO         TWLV         TWST  \\\n",
       "day                                                                             \n",
       "2019-11-22  2.0  0.015771  6665.421937  2171.954448  1430.665806  3062.801682   \n",
       "2019-11-23  2.0  0.015771  6665.421937  2171.954448  1430.665806  3062.801682   \n",
       "2019-11-24  2.0  0.015771  6665.421937  2171.954448  1430.665806  3062.801682   \n",
       "2019-11-25  2.0  0.015771  6665.421937  2171.954448  1430.665806  3062.801682   \n",
       "2019-11-26  2.0  0.015771  6665.421937  2171.954448  1430.665806  3062.801682   \n",
       "\n",
       "                  TWRT       TRA     RD        SM  ...   SS  DSS  RAIN_INF  \\\n",
       "day                                                ...                       \n",
       "2019-11-22  827.057645  0.000188  100.0  0.113800  ...  0.0  0.0      None   \n",
       "2019-11-23  827.057645  0.000192  100.0  0.110000  ...  0.0  0.0      None   \n",
       "2019-11-24  827.057645  0.000382  100.0  0.109992  ...  0.0  0.0      None   \n",
       "2019-11-25  827.057645  0.000186  100.0  0.109976  ...  0.0  0.0      None   \n",
       "2019-11-26  827.057645  0.000295  100.0  0.109965  ...  0.0  0.0      None   \n",
       "\n",
       "            RAIN_NOTINF  RIN      PERCT      PERC      LOSST   ET0   RR  \n",
       "day                                                                      \n",
       "2019-11-22         None  0.0  20.686220  0.375484  19.486220  None  0.0  \n",
       "2019-11-23         None  0.0  21.061703  0.000000  19.861703  None  0.0  \n",
       "2019-11-24         None  0.0  21.061703  0.000000  19.861703  None  0.0  \n",
       "2019-11-25         None  0.0  21.061703  0.000000  19.861703  None  0.0  \n",
       "2019-11-26         None  0.0  21.061703  0.000000  19.861703  None  0.0  \n",
       "\n",
       "[5 rows x 33 columns]"
      ]
     },
     "execution_count": 80,
     "metadata": {},
     "output_type": "execute_result"
    }
   ],
   "source": [
    "wofsim_wlp.run_till_terminate()\n",
    "df_results_wlp = pd.DataFrame(wofsim_wlp.get_output())\n",
    "df_results_wlp = df_results_wlp.set_index(\"day\")\n",
    "df_results_wlp.tail()"
   ]
  },
  {
   "cell_type": "code",
   "execution_count": 81,
   "id": "0cba6d9d",
   "metadata": {
    "scrolled": true
   },
   "outputs": [
    {
     "data": {
      "text/html": [
       "<div>\n",
       "<style scoped>\n",
       "    .dataframe tbody tr th:only-of-type {\n",
       "        vertical-align: middle;\n",
       "    }\n",
       "\n",
       "    .dataframe tbody tr th {\n",
       "        vertical-align: top;\n",
       "    }\n",
       "\n",
       "    .dataframe thead th {\n",
       "        text-align: right;\n",
       "    }\n",
       "</style>\n",
       "<table border=\"1\" class=\"dataframe\">\n",
       "  <thead>\n",
       "    <tr style=\"text-align: right;\">\n",
       "      <th></th>\n",
       "      <th>DVS</th>\n",
       "      <th>LAI</th>\n",
       "      <th>TAGP</th>\n",
       "      <th>TWSO</th>\n",
       "      <th>TWLV</th>\n",
       "      <th>TWST</th>\n",
       "      <th>TWRT</th>\n",
       "      <th>TRA</th>\n",
       "      <th>RD</th>\n",
       "      <th>SM</th>\n",
       "      <th>...</th>\n",
       "      <th>SS</th>\n",
       "      <th>DSS</th>\n",
       "      <th>RAIN_INF</th>\n",
       "      <th>RAIN_NOTINF</th>\n",
       "      <th>RIN</th>\n",
       "      <th>PERCT</th>\n",
       "      <th>PERC</th>\n",
       "      <th>LOSST</th>\n",
       "      <th>ET0</th>\n",
       "      <th>RR</th>\n",
       "    </tr>\n",
       "    <tr>\n",
       "      <th>day</th>\n",
       "      <th></th>\n",
       "      <th></th>\n",
       "      <th></th>\n",
       "      <th></th>\n",
       "      <th></th>\n",
       "      <th></th>\n",
       "      <th></th>\n",
       "      <th></th>\n",
       "      <th></th>\n",
       "      <th></th>\n",
       "      <th></th>\n",
       "      <th></th>\n",
       "      <th></th>\n",
       "      <th></th>\n",
       "      <th></th>\n",
       "      <th></th>\n",
       "      <th></th>\n",
       "      <th></th>\n",
       "      <th></th>\n",
       "      <th></th>\n",
       "      <th></th>\n",
       "    </tr>\n",
       "  </thead>\n",
       "  <tbody>\n",
       "    <tr>\n",
       "      <th>2019-11-22</th>\n",
       "      <td>2.0</td>\n",
       "      <td>0.051324</td>\n",
       "      <td>16222.362956</td>\n",
       "      <td>9435.064051</td>\n",
       "      <td>1978.162647</td>\n",
       "      <td>4809.136258</td>\n",
       "      <td>1033.521288</td>\n",
       "      <td>0.000608</td>\n",
       "      <td>100.0</td>\n",
       "      <td>0.11</td>\n",
       "      <td>...</td>\n",
       "      <td>None</td>\n",
       "      <td>None</td>\n",
       "      <td>None</td>\n",
       "      <td>None</td>\n",
       "      <td>None</td>\n",
       "      <td>None</td>\n",
       "      <td>None</td>\n",
       "      <td>None</td>\n",
       "      <td>None</td>\n",
       "      <td>0.0</td>\n",
       "    </tr>\n",
       "    <tr>\n",
       "      <th>2019-11-23</th>\n",
       "      <td>2.0</td>\n",
       "      <td>0.051324</td>\n",
       "      <td>16222.362956</td>\n",
       "      <td>9435.064051</td>\n",
       "      <td>1978.162647</td>\n",
       "      <td>4809.136258</td>\n",
       "      <td>1033.521288</td>\n",
       "      <td>0.000619</td>\n",
       "      <td>100.0</td>\n",
       "      <td>0.11</td>\n",
       "      <td>...</td>\n",
       "      <td>None</td>\n",
       "      <td>None</td>\n",
       "      <td>None</td>\n",
       "      <td>None</td>\n",
       "      <td>None</td>\n",
       "      <td>None</td>\n",
       "      <td>None</td>\n",
       "      <td>None</td>\n",
       "      <td>None</td>\n",
       "      <td>0.0</td>\n",
       "    </tr>\n",
       "    <tr>\n",
       "      <th>2019-11-24</th>\n",
       "      <td>2.0</td>\n",
       "      <td>0.051324</td>\n",
       "      <td>16222.362956</td>\n",
       "      <td>9435.064051</td>\n",
       "      <td>1978.162647</td>\n",
       "      <td>4809.136258</td>\n",
       "      <td>1033.521288</td>\n",
       "      <td>0.001233</td>\n",
       "      <td>100.0</td>\n",
       "      <td>0.11</td>\n",
       "      <td>...</td>\n",
       "      <td>None</td>\n",
       "      <td>None</td>\n",
       "      <td>None</td>\n",
       "      <td>None</td>\n",
       "      <td>None</td>\n",
       "      <td>None</td>\n",
       "      <td>None</td>\n",
       "      <td>None</td>\n",
       "      <td>None</td>\n",
       "      <td>0.0</td>\n",
       "    </tr>\n",
       "    <tr>\n",
       "      <th>2019-11-25</th>\n",
       "      <td>2.0</td>\n",
       "      <td>0.051324</td>\n",
       "      <td>16222.362956</td>\n",
       "      <td>9435.064051</td>\n",
       "      <td>1978.162647</td>\n",
       "      <td>4809.136258</td>\n",
       "      <td>1033.521288</td>\n",
       "      <td>0.000602</td>\n",
       "      <td>100.0</td>\n",
       "      <td>0.11</td>\n",
       "      <td>...</td>\n",
       "      <td>None</td>\n",
       "      <td>None</td>\n",
       "      <td>None</td>\n",
       "      <td>None</td>\n",
       "      <td>None</td>\n",
       "      <td>None</td>\n",
       "      <td>None</td>\n",
       "      <td>None</td>\n",
       "      <td>None</td>\n",
       "      <td>0.0</td>\n",
       "    </tr>\n",
       "    <tr>\n",
       "      <th>2019-11-26</th>\n",
       "      <td>2.0</td>\n",
       "      <td>0.051324</td>\n",
       "      <td>16222.362956</td>\n",
       "      <td>9435.064051</td>\n",
       "      <td>1978.162647</td>\n",
       "      <td>4809.136258</td>\n",
       "      <td>1033.521288</td>\n",
       "      <td>0.000951</td>\n",
       "      <td>100.0</td>\n",
       "      <td>0.11</td>\n",
       "      <td>...</td>\n",
       "      <td>None</td>\n",
       "      <td>None</td>\n",
       "      <td>None</td>\n",
       "      <td>None</td>\n",
       "      <td>None</td>\n",
       "      <td>None</td>\n",
       "      <td>None</td>\n",
       "      <td>None</td>\n",
       "      <td>None</td>\n",
       "      <td>0.0</td>\n",
       "    </tr>\n",
       "  </tbody>\n",
       "</table>\n",
       "<p>5 rows × 33 columns</p>\n",
       "</div>"
      ],
      "text/plain": [
       "            DVS       LAI          TAGP         TWSO         TWLV  \\\n",
       "day                                                                 \n",
       "2019-11-22  2.0  0.051324  16222.362956  9435.064051  1978.162647   \n",
       "2019-11-23  2.0  0.051324  16222.362956  9435.064051  1978.162647   \n",
       "2019-11-24  2.0  0.051324  16222.362956  9435.064051  1978.162647   \n",
       "2019-11-25  2.0  0.051324  16222.362956  9435.064051  1978.162647   \n",
       "2019-11-26  2.0  0.051324  16222.362956  9435.064051  1978.162647   \n",
       "\n",
       "                   TWST         TWRT       TRA     RD    SM  ...    SS   DSS  \\\n",
       "day                                                          ...               \n",
       "2019-11-22  4809.136258  1033.521288  0.000608  100.0  0.11  ...  None  None   \n",
       "2019-11-23  4809.136258  1033.521288  0.000619  100.0  0.11  ...  None  None   \n",
       "2019-11-24  4809.136258  1033.521288  0.001233  100.0  0.11  ...  None  None   \n",
       "2019-11-25  4809.136258  1033.521288  0.000602  100.0  0.11  ...  None  None   \n",
       "2019-11-26  4809.136258  1033.521288  0.000951  100.0  0.11  ...  None  None   \n",
       "\n",
       "           RAIN_INF RAIN_NOTINF   RIN  PERCT  PERC  LOSST   ET0   RR  \n",
       "day                                                                   \n",
       "2019-11-22     None        None  None   None  None   None  None  0.0  \n",
       "2019-11-23     None        None  None   None  None   None  None  0.0  \n",
       "2019-11-24     None        None  None   None  None   None  None  0.0  \n",
       "2019-11-25     None        None  None   None  None   None  None  0.0  \n",
       "2019-11-26     None        None  None   None  None   None  None  0.0  \n",
       "\n",
       "[5 rows x 33 columns]"
      ]
     },
     "execution_count": 81,
     "metadata": {},
     "output_type": "execute_result"
    }
   ],
   "source": [
    "wofsim_pp.run_till_terminate()\n",
    "df_results_pp = pd.DataFrame(wofsim_pp.get_output())\n",
    "df_results_pp = df_results_pp.set_index(\"day\")\n",
    "df_results_pp.tail()"
   ]
  },
  {
   "cell_type": "markdown",
   "id": "476cb808",
   "metadata": {},
   "source": [
    "**Visualization**"
   ]
  },
  {
   "cell_type": "code",
   "execution_count": 194,
   "id": "f1741e14",
   "metadata": {
    "scrolled": true
   },
   "outputs": [
    {
     "data": {
      "text/html": [
       "<div>\n",
       "<style scoped>\n",
       "    .dataframe tbody tr th:only-of-type {\n",
       "        vertical-align: middle;\n",
       "    }\n",
       "\n",
       "    .dataframe tbody tr th {\n",
       "        vertical-align: top;\n",
       "    }\n",
       "\n",
       "    .dataframe thead th {\n",
       "        text-align: right;\n",
       "    }\n",
       "</style>\n",
       "<table border=\"1\" class=\"dataframe\">\n",
       "  <thead>\n",
       "    <tr style=\"text-align: right;\">\n",
       "      <th></th>\n",
       "      <th>day</th>\n",
       "      <th>DVS</th>\n",
       "      <th>LAI</th>\n",
       "      <th>TAGP</th>\n",
       "      <th>TWSO</th>\n",
       "      <th>TWLV</th>\n",
       "      <th>TWST</th>\n",
       "      <th>TWRT</th>\n",
       "      <th>TRA</th>\n",
       "      <th>RD</th>\n",
       "      <th>...</th>\n",
       "      <th>DSS</th>\n",
       "      <th>RAIN_INF</th>\n",
       "      <th>RAIN_NOTINF</th>\n",
       "      <th>RIN</th>\n",
       "      <th>PERCT</th>\n",
       "      <th>PERC</th>\n",
       "      <th>LOSST</th>\n",
       "      <th>ET0</th>\n",
       "      <th>RR</th>\n",
       "      <th>type</th>\n",
       "    </tr>\n",
       "  </thead>\n",
       "  <tbody>\n",
       "    <tr>\n",
       "      <th>655</th>\n",
       "      <td>2019-11-22</td>\n",
       "      <td>2.0</td>\n",
       "      <td>0.051324</td>\n",
       "      <td>16222.362956</td>\n",
       "      <td>9435.064051</td>\n",
       "      <td>1978.162647</td>\n",
       "      <td>4809.136258</td>\n",
       "      <td>1033.521288</td>\n",
       "      <td>0.000608</td>\n",
       "      <td>100.0</td>\n",
       "      <td>...</td>\n",
       "      <td>None</td>\n",
       "      <td>None</td>\n",
       "      <td>None</td>\n",
       "      <td>None</td>\n",
       "      <td>None</td>\n",
       "      <td>None</td>\n",
       "      <td>None</td>\n",
       "      <td>None</td>\n",
       "      <td>0.0</td>\n",
       "      <td>pp</td>\n",
       "    </tr>\n",
       "    <tr>\n",
       "      <th>656</th>\n",
       "      <td>2019-11-23</td>\n",
       "      <td>2.0</td>\n",
       "      <td>0.051324</td>\n",
       "      <td>16222.362956</td>\n",
       "      <td>9435.064051</td>\n",
       "      <td>1978.162647</td>\n",
       "      <td>4809.136258</td>\n",
       "      <td>1033.521288</td>\n",
       "      <td>0.000619</td>\n",
       "      <td>100.0</td>\n",
       "      <td>...</td>\n",
       "      <td>None</td>\n",
       "      <td>None</td>\n",
       "      <td>None</td>\n",
       "      <td>None</td>\n",
       "      <td>None</td>\n",
       "      <td>None</td>\n",
       "      <td>None</td>\n",
       "      <td>None</td>\n",
       "      <td>0.0</td>\n",
       "      <td>pp</td>\n",
       "    </tr>\n",
       "    <tr>\n",
       "      <th>657</th>\n",
       "      <td>2019-11-24</td>\n",
       "      <td>2.0</td>\n",
       "      <td>0.051324</td>\n",
       "      <td>16222.362956</td>\n",
       "      <td>9435.064051</td>\n",
       "      <td>1978.162647</td>\n",
       "      <td>4809.136258</td>\n",
       "      <td>1033.521288</td>\n",
       "      <td>0.001233</td>\n",
       "      <td>100.0</td>\n",
       "      <td>...</td>\n",
       "      <td>None</td>\n",
       "      <td>None</td>\n",
       "      <td>None</td>\n",
       "      <td>None</td>\n",
       "      <td>None</td>\n",
       "      <td>None</td>\n",
       "      <td>None</td>\n",
       "      <td>None</td>\n",
       "      <td>0.0</td>\n",
       "      <td>pp</td>\n",
       "    </tr>\n",
       "    <tr>\n",
       "      <th>658</th>\n",
       "      <td>2019-11-25</td>\n",
       "      <td>2.0</td>\n",
       "      <td>0.051324</td>\n",
       "      <td>16222.362956</td>\n",
       "      <td>9435.064051</td>\n",
       "      <td>1978.162647</td>\n",
       "      <td>4809.136258</td>\n",
       "      <td>1033.521288</td>\n",
       "      <td>0.000602</td>\n",
       "      <td>100.0</td>\n",
       "      <td>...</td>\n",
       "      <td>None</td>\n",
       "      <td>None</td>\n",
       "      <td>None</td>\n",
       "      <td>None</td>\n",
       "      <td>None</td>\n",
       "      <td>None</td>\n",
       "      <td>None</td>\n",
       "      <td>None</td>\n",
       "      <td>0.0</td>\n",
       "      <td>pp</td>\n",
       "    </tr>\n",
       "    <tr>\n",
       "      <th>659</th>\n",
       "      <td>2019-11-26</td>\n",
       "      <td>2.0</td>\n",
       "      <td>0.051324</td>\n",
       "      <td>16222.362956</td>\n",
       "      <td>9435.064051</td>\n",
       "      <td>1978.162647</td>\n",
       "      <td>4809.136258</td>\n",
       "      <td>1033.521288</td>\n",
       "      <td>0.000951</td>\n",
       "      <td>100.0</td>\n",
       "      <td>...</td>\n",
       "      <td>None</td>\n",
       "      <td>None</td>\n",
       "      <td>None</td>\n",
       "      <td>None</td>\n",
       "      <td>None</td>\n",
       "      <td>None</td>\n",
       "      <td>None</td>\n",
       "      <td>None</td>\n",
       "      <td>0.0</td>\n",
       "      <td>pp</td>\n",
       "    </tr>\n",
       "  </tbody>\n",
       "</table>\n",
       "<p>5 rows × 35 columns</p>\n",
       "</div>"
      ],
      "text/plain": [
       "            day  DVS       LAI          TAGP         TWSO         TWLV  \\\n",
       "655  2019-11-22  2.0  0.051324  16222.362956  9435.064051  1978.162647   \n",
       "656  2019-11-23  2.0  0.051324  16222.362956  9435.064051  1978.162647   \n",
       "657  2019-11-24  2.0  0.051324  16222.362956  9435.064051  1978.162647   \n",
       "658  2019-11-25  2.0  0.051324  16222.362956  9435.064051  1978.162647   \n",
       "659  2019-11-26  2.0  0.051324  16222.362956  9435.064051  1978.162647   \n",
       "\n",
       "            TWST         TWRT       TRA     RD  ...   DSS RAIN_INF  \\\n",
       "655  4809.136258  1033.521288  0.000608  100.0  ...  None     None   \n",
       "656  4809.136258  1033.521288  0.000619  100.0  ...  None     None   \n",
       "657  4809.136258  1033.521288  0.001233  100.0  ...  None     None   \n",
       "658  4809.136258  1033.521288  0.000602  100.0  ...  None     None   \n",
       "659  4809.136258  1033.521288  0.000951  100.0  ...  None     None   \n",
       "\n",
       "    RAIN_NOTINF   RIN PERCT  PERC  LOSST   ET0   RR  type  \n",
       "655        None  None  None  None   None  None  0.0    pp  \n",
       "656        None  None  None  None   None  None  0.0    pp  \n",
       "657        None  None  None  None   None  None  0.0    pp  \n",
       "658        None  None  None  None   None  None  0.0    pp  \n",
       "659        None  None  None  None   None  None  0.0    pp  \n",
       "\n",
       "[5 rows x 35 columns]"
      ]
     },
     "execution_count": 194,
     "metadata": {},
     "output_type": "execute_result"
    }
   ],
   "source": [
    "df_results_wlp['type'] = 'wlp'\n",
    "df_results_pp['type'] = 'pp'\n",
    "\n",
    "df = pd.concat([df_results_wlp, df_results_pp]).reset_index(drop=False)\n",
    "\n",
    "df.tail()"
   ]
  },
  {
   "cell_type": "code",
   "execution_count": 195,
   "id": "932e9887",
   "metadata": {},
   "outputs": [
    {
     "name": "stderr",
     "output_type": "stream",
     "text": [
      "/var/folders/ly/7lr4km0s1wd8h6w0sb8p_1n80000gn/T/ipykernel_36576/432480171.py:15: UserWarning: FixedFormatter should only be used together with FixedLocator\n",
      "  sns.lineplot(data=df, x = 'day', y = 'TRA', hue = 'type',\n",
      "/var/folders/ly/7lr4km0s1wd8h6w0sb8p_1n80000gn/T/ipykernel_36576/432480171.py:19: UserWarning: FixedFormatter should only be used together with FixedLocator\n",
      "  sns.lineplot(data=df, x = 'day', y = 'TWRT', hue = 'type',\n"
     ]
    },
    {
     "data": {
      "image/png": "[encoded data removed]",
      "text/plain": [
       "<Figure size 1100x800 with 4 Axes>"
      ]
     },
     "metadata": {},
     "output_type": "display_data"
    }
   ],
   "source": [
    "sns.set(rc={'figure.figsize':(11,8)})\n",
    "\n",
    "fig = plt.figure()\n",
    "fig.subplots_adjust(hspace=0.2, wspace=0.25)\n",
    "\n",
    "ax = fig.add_subplot(2, 2, 1)\n",
    "sns.lineplot(data=df, x = 'day', y = 'TAGP', hue = 'type', \n",
    "            palette = ['red', 'blue']).set(title='TAPG Gap {}'.format(year), xlabel = None, xticklabels=[])\n",
    "\n",
    "ax = fig.add_subplot(2, 2, 2)\n",
    "sns.lineplot(data=df, x = 'day', y = 'LAI', hue = 'type', \n",
    "            palette = ['red', 'blue']).set(title='LAI Gap {}'.format(year), xlabel = None, xticklabels=[])\n",
    "\n",
    "ax = fig.add_subplot(2, 2, 3)\n",
    "sns.lineplot(data=df, x = 'day', y = 'TRA', hue = 'type', \n",
    "            palette = ['red', 'blue']).set(title='TRA Gap {}'.format(year),xlabel = 'Month', xticklabels=[5,6,7,8,9,10,11,12])\n",
    "\n",
    "ax = fig.add_subplot(2, 2, 4)\n",
    "sns.lineplot(data=df, x = 'day', y = 'TWRT', hue = 'type', \n",
    "            palette = ['red', 'blue']).set(title='TWRT Gap {}'.format(year),xlabel = 'Month', xticklabels=[5,6,7,8,9,10,11,12])\n",
    "plt.show()"
   ]
  },
  {
   "cell_type": "code",
   "execution_count": 196,
   "id": "7ff9b93b",
   "metadata": {},
   "outputs": [
    {
     "data": {
      "text/plain": [
       "[Text(0.5, 1.0, 'SW Gap 2019'), Text(0.5, 0, 'Month')]"
      ]
     },
     "execution_count": 196,
     "metadata": {},
     "output_type": "execute_result"
    },
    {
     "data": {
      "image/png": "[encoded data removed]",
      "text/plain": [
       "<Figure size 1000x400 with 1 Axes>"
      ]
     },
     "metadata": {},
     "output_type": "display_data"
    }
   ],
   "source": [
    "sns.set(rc={'figure.figsize':(10,4)})\n",
    "sns.lineplot(data=df, x = 'day', y = 'SM', hue = 'type', \n",
    "            palette = ['red', 'blue']).set(title='SW Gap {}'.format(year),xlabel = 'Month')"
   ]
  },
  {
   "cell_type": "code",
   "execution_count": null,
   "id": "ec102515",
   "metadata": {},
   "outputs": [],
   "source": []
  }
 ],
 "metadata": {
  "kernelspec": {
   "display_name": "Python 3 (ipykernel)",
   "language": "python",
   "name": "python3"
  },
  "language_info": {
   "codemirror_mode": {
    "name": "ipython",
    "version": 3
   },
   "file_extension": ".py",
   "mimetype": "text/x-python",
   "name": "python",
   "nbconvert_exporter": "python",
   "pygments_lexer": "ipython3",
   "version": "3.9.12"
  }
 },
 "nbformat": 4,
 "nbformat_minor": 5
}
