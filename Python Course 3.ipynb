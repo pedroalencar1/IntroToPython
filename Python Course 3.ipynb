{
 "cells": [
  {
   "cell_type": "markdown",
   "id": "f4ff9bcf",
   "metadata": {},
   "source": [
    "<img alt=\"\" src=\"//upload.wikimedia.org/wikipedia/commons/thumb/2/2e/Logo_der_Technischen_Universit%C3%A4t_Berlin.svg/200px-Logo_der_Technischen_Universit%C3%A4t_Berlin.svg.png\" decoding=\"async\" width=\"150\" height=\"112\">\n",
    "\n",
    "# Python for ecohydrology\n",
    "\n",
    "Prof. Dr. Eva Paton & Dr. Pedro Alencar\n",
    "\n",
    "\n",
    "## Python - Crop Analysis\n",
    "\n",
    "This notebook presents:\n",
    "\n",
    "* WOFOST/PCSE"
   ]
  },
  {
   "cell_type": "markdown",
   "id": "fbe4b920",
   "metadata": {},
   "source": [
    "WOrld FOod STudies - WOFOST is a simulation model of growth and produciton of annual field crops. It is one of the key parts of the Global Yield Gap Atlas ([GYGA](http://www.yieldgap.org/)) and Monitoring Agricultural ResourceS ([MARS](https://joint-research-centre.ec.europa.eu/monitoring-agricultural-resources-mars_en)) initiatives.\n",
    "\n",
    "It can be easily accessed with the Python Crop Simulation Environment ([PCSE](https://pcse.readthedocs.io/en/stable/#)).\n",
    "\n",
    "For more information about WOFOST, visit their main [page](https://www.wur.nl/en/research-results/research-institutes/environmental-research/facilities-tools/software-models-and-databases/wofost.htm), where tips on [implementation](https://www.wur.nl/en/research-results/research-institutes/environmental-research/facilities-tools/software-models-and-databases/wofost/implementation-of-wofost.htm), and [downloads](https://www.wur.nl/en/research-results/research-institutes/environmental-research/facilities-tools/software-models-and-databases/wofost/downloads-wofost.htm), and [documentation](https://www.wur.nl/en/research-results/research-institutes/environmental-research/facilities-tools/software-models-and-databases/wofost/documentation-wofost.htm) are available.\n",
    "\n",
    "To use WOFOST in Python, first it is necessary to install it:"
   ]
  },
  {
   "cell_type": "code",
   "execution_count": 1,
   "id": "42abdc0f",
   "metadata": {
    "scrolled": false
   },
   "outputs": [
    {
     "name": "stdout",
     "output_type": "stream",
     "text": [
      "Requirement already satisfied: pcse in /Users/alencar/opt/anaconda3/lib/python3.9/site-packages (5.5.1)\n",
      "Requirement already satisfied: SQLAlchemy>=1.3.0 in /Users/alencar/opt/anaconda3/lib/python3.9/site-packages (from pcse) (1.3.15)\n",
      "Requirement already satisfied: xlrd>=1.2.0 in /Users/alencar/opt/anaconda3/lib/python3.9/site-packages (from pcse) (2.0.1)\n",
      "Requirement already satisfied: traitlets-pcse==5.0.0.dev in /Users/alencar/opt/anaconda3/lib/python3.9/site-packages (from pcse) (5.0.0.dev0)\n",
      "Requirement already satisfied: PyYAML>=5.1 in /Users/alencar/opt/anaconda3/lib/python3.9/site-packages (from pcse) (6.0)\n",
      "Requirement already satisfied: openpyxl>=3.0.0 in /Users/alencar/opt/anaconda3/lib/python3.9/site-packages (from pcse) (3.0.9)\n",
      "Requirement already satisfied: pandas>=0.25 in /Users/alencar/opt/anaconda3/lib/python3.9/site-packages (from pcse) (1.4.2)\n",
      "Requirement already satisfied: requests>=2.0.0 in /Users/alencar/opt/anaconda3/lib/python3.9/site-packages (from pcse) (2.23.0)\n",
      "Requirement already satisfied: decorator in /Users/alencar/opt/anaconda3/lib/python3.9/site-packages (from traitlets-pcse==5.0.0.dev->pcse) (5.1.1)\n",
      "Requirement already satisfied: ipython-genutils in /Users/alencar/opt/anaconda3/lib/python3.9/site-packages (from traitlets-pcse==5.0.0.dev->pcse) (0.2.0)\n",
      "Requirement already satisfied: six in /Users/alencar/opt/anaconda3/lib/python3.9/site-packages (from traitlets-pcse==5.0.0.dev->pcse) (1.16.0)\n",
      "Requirement already satisfied: et-xmlfile in /Users/alencar/opt/anaconda3/lib/python3.9/site-packages (from openpyxl>=3.0.0->pcse) (1.1.0)\n",
      "Requirement already satisfied: python-dateutil>=2.8.1 in /Users/alencar/opt/anaconda3/lib/python3.9/site-packages (from pandas>=0.25->pcse) (2.8.2)\n",
      "Requirement already satisfied: pytz>=2020.1 in /Users/alencar/opt/anaconda3/lib/python3.9/site-packages (from pandas>=0.25->pcse) (2021.3)\n",
      "Requirement already satisfied: numpy>=1.18.5 in /Users/alencar/opt/anaconda3/lib/python3.9/site-packages (from pandas>=0.25->pcse) (1.22.4)\n",
      "Requirement already satisfied: urllib3!=1.25.0,!=1.25.1,<1.26,>=1.21.1 in /Users/alencar/opt/anaconda3/lib/python3.9/site-packages (from requests>=2.0.0->pcse) (1.25.11)\n",
      "Requirement already satisfied: idna<3,>=2.5 in /Users/alencar/opt/anaconda3/lib/python3.9/site-packages (from requests>=2.0.0->pcse) (2.10)\n",
      "Requirement already satisfied: chardet<4,>=3.0.2 in /Users/alencar/opt/anaconda3/lib/python3.9/site-packages (from requests>=2.0.0->pcse) (3.0.4)\n",
      "Requirement already satisfied: certifi>=2017.4.17 in /Users/alencar/opt/anaconda3/lib/python3.9/site-packages (from requests>=2.0.0->pcse) (2021.10.8)\n",
      "Note: you may need to restart the kernel to use updated packages.\n"
     ]
    }
   ],
   "source": [
    "pip install pcse"
   ]
  },
  {
   "cell_type": "markdown",
   "id": "80d42f83",
   "metadata": {},
   "source": [
    "**Let's first import a few packages**"
   ]
  },
  {
   "cell_type": "code",
   "execution_count": 5,
   "id": "ff2926cf",
   "metadata": {},
   "outputs": [],
   "source": [
    "import sys, os\n",
    "\n",
    "import pandas as pd\n",
    "import numpy as np\n",
    "import seaborn as sns"
   ]
  },
  {
   "cell_type": "code",
   "execution_count": 4,
   "id": "96b00373",
   "metadata": {},
   "outputs": [
    {
     "name": "stdout",
     "output_type": "stream",
     "text": [
      "This notebook was built with:\n",
      "python version: 3.9.12 (main, Apr  5 2022, 01:53:17) \n",
      "[Clang 12.0.0 ] \n",
      "PCSE version: 5.5.1\n"
     ]
    }
   ],
   "source": [
    "import pcse\n",
    "print(\"This notebook was built with:\")\n",
    "print(\"python version: %s \" % sys.version)\n",
    "print(\"PCSE version: %s\" %  pcse.__version__)"
   ]
  },
  {
   "cell_type": "markdown",
   "id": "95791045",
   "metadata": {
    "slideshow": {
     "slide_type": "-"
    }
   },
   "source": [
    "It is important to define a path to all input files"
   ]
  },
  {
   "cell_type": "code",
   "execution_count": null,
   "id": "701502df",
   "metadata": {},
   "outputs": [],
   "source": []
  },
  {
   "cell_type": "code",
   "execution_count": null,
   "id": "7177aae0",
   "metadata": {},
   "outputs": [],
   "source": []
  },
  {
   "cell_type": "code",
   "execution_count": null,
   "id": "448b97fa",
   "metadata": {},
   "outputs": [],
   "source": []
  }
 ],
 "metadata": {
  "kernelspec": {
   "display_name": "Python 3 (ipykernel)",
   "language": "python",
   "name": "python3"
  },
  "language_info": {
   "codemirror_mode": {
    "name": "ipython",
    "version": 3
   },
   "file_extension": ".py",
   "mimetype": "text/x-python",
   "name": "python",
   "nbconvert_exporter": "python",
   "pygments_lexer": "ipython3",
   "version": "3.9.12"
  }
 },
 "nbformat": 4,
 "nbformat_minor": 5
}
