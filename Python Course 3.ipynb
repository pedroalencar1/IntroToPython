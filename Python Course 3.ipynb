{
 "cells": [
  {
   "cell_type": "markdown",
   "id": "f4ff9bcf",
   "metadata": {},
   "source": [
    "<img alt=\"\" src=\"//upload.wikimedia.org/wikipedia/commons/thumb/2/2e/Logo_der_Technischen_Universit%C3%A4t_Berlin.svg/200px-Logo_der_Technischen_Universit%C3%A4t_Berlin.svg.png\" decoding=\"async\" width=\"150\" height=\"112\">\n",
    "\n",
    "# Python for ecohydrology\n",
    "\n",
    "Dr. Pedro Alencar (TU-Berlin Ökohydrologie & Landschaftsbewertung)\n",
    "\n",
    "Class 2 - 01.12.2022\n",
    "\n",
    "\n",
    "## Python - Crop Analysis\n",
    "\n",
    "This notebook presents:\n",
    "\n",
    "* WOFOST/PCSE"
   ]
  },
  {
   "cell_type": "markdown",
   "id": "fbe4b920",
   "metadata": {},
   "source": [
    "WOrld FOod STudies - WOFOST is a simulation model of growth and produciton of annual field crops. It is one of the key parts of the Global Yield Gap Atlas ([GYGA](http://www.yieldgap.org/)) and Monitoring Agricultural ResourceS ([MARS](https://joint-research-centre.ec.europa.eu/monitoring-agricultural-resources-mars_en)) initiatives.\n",
    "\n",
    "It can be easily accessed with the Python Crop Simulation Environment ([PCSE](https://pcse.readthedocs.io/en/stable/#)).\n",
    "\n",
    "For more information about WOFOST, visit their main [page](https://www.wur.nl/en/research-results/research-institutes/environmental-research/facilities-tools/software-models-and-databases/wofost.htm), where tips on [implementation](https://www.wur.nl/en/research-results/research-institutes/environmental-research/facilities-tools/software-models-and-databases/wofost/implementation-of-wofost.htm), and [downloads](https://www.wur.nl/en/research-results/research-institutes/environmental-research/facilities-tools/software-models-and-databases/wofost/downloads-wofost.htm), and [documentation](https://www.wur.nl/en/research-results/research-institutes/environmental-research/facilities-tools/software-models-and-databases/wofost/documentation-wofost.htm) are available.\n",
    "\n",
    "To use WOFOST in Python, first it is necessary to install it:"
   ]
  },
  {
   "cell_type": "code",
   "execution_count": null,
   "id": "42abdc0f",
   "metadata": {
    "scrolled": false
   },
   "outputs": [],
   "source": [
    "# pip install pcse"
   ]
  },
  {
   "cell_type": "markdown",
   "id": "80d42f83",
   "metadata": {},
   "source": [
    "**Let's first import a few packages**"
   ]
  },
  {
   "cell_type": "code",
   "execution_count": null,
   "id": "ff2926cf",
   "metadata": {},
   "outputs": [],
   "source": [
    "import sys, os\n",
    "\n",
    "import pandas as pd\n",
    "import numpy as np\n",
    "import seaborn as sns\n",
    "import matplotlib.pyplot as plt\n",
    "\n",
    "%matplotlib inline\n",
    "\n",
    "import datetime\n",
    "\n",
    "from IPython import display"
   ]
  },
  {
   "cell_type": "code",
   "execution_count": null,
   "id": "96b00373",
   "metadata": {},
   "outputs": [],
   "source": [
    "import pcse\n",
    "print(\"This notebook was built with:\")\n",
    "print(\"python version: %s \" % sys.version)\n",
    "print(\"PCSE version: %s\" %  pcse.__version__)"
   ]
  },
  {
   "cell_type": "markdown",
   "id": "95791045",
   "metadata": {
    "slideshow": {
     "slide_type": "-"
    }
   },
   "source": [
    "It is important to define a path to all input files. Make sure that the [folder](https://github.com/pedroalencar1/IntroToPython) `Data_WOFOST` is placed in a know location in your computer.\n",
    "\n",
    "If you are using a computer with Windows, you should use two backslashes (\"\\\\\") to separate folders."
   ]
  },
  {
   "cell_type": "code",
   "execution_count": null,
   "id": "701502df",
   "metadata": {},
   "outputs": [],
   "source": [
    "data_dir = os.path.join(\"path/to/data/folder\") # or \"path\\\\to\\\\data\\\\folder\"\n",
    "# data_dir = os.path.join(\"\")"
   ]
  },
  {
   "cell_type": "code",
   "execution_count": null,
   "id": "7962a328",
   "metadata": {},
   "outputs": [],
   "source": [
    "# for example (macOS):\n",
    "data_dir = os.path.join(\"/Users/alencar/Library/CloudStorage/OneDrive-Personal/@_PostDoc/IntroToPython/Data_WOFOST\")"
   ]
  },
  {
   "cell_type": "markdown",
   "id": "70eeb033",
   "metadata": {},
   "source": [
    "In the data folder there are miltiple sub-folders with input data of WOFOST.\n",
    "\n",
    "1. agro: has the agromanagement files that provide to the model the crop calendar and management activities (if any)\n",
    "2. crop: has the crop parameter files for multiple calibrated crops, such as potato, wheat and corn\n",
    "3. meteo: has the weather input files, containing geographic location and meteorological variables P, Tmax, Tmin, Irrad, WS.\n",
    "4. soil: has the standard files with soil parameters\n",
    "\n",
    "\n",
    "_Obs: sub-folders `site` and `output` will not be used now._\n",
    "\n",
    "On soil parameters:\n",
    "<img alt=\"\" src=\"https://raw.githubusercontent.com/pedroalencar1/IntroToPython/master/Soil_parameters.png\" decoding=\"async\" width=\"850\">"
   ]
  },
  {
   "cell_type": "markdown",
   "id": "6132ecc7",
   "metadata": {},
   "source": [
    "### 1. Read paramenters\n",
    "\n",
    "#### **1.1. Crop parameters**\n",
    "\n",
    "Here we can list all available crops in the WOFOST files"
   ]
  },
  {
   "cell_type": "code",
   "execution_count": null,
   "id": "405a34d1",
   "metadata": {},
   "outputs": [],
   "source": [
    "os.path.join(data_dir,\"crop\")"
   ]
  },
  {
   "cell_type": "code",
   "execution_count": null,
   "id": "f99f2501",
   "metadata": {},
   "outputs": [],
   "source": [
    "from pcse.fileinput import YAMLCropDataProvider\n",
    "cropd = YAMLCropDataProvider(fpath = os.path.join(data_dir,\"crop\"))\n",
    "\n",
    "cropd.print_crops_varieties()\n",
    "\n",
    "# if you are using mac, you may need to delete the app file crops.yaml"
   ]
  },
  {
   "cell_type": "code",
   "execution_count": null,
   "id": "8f73cd8e",
   "metadata": {},
   "outputs": [],
   "source": [
    "cropd = YAMLCropDataProvider(fpath = os.path.join(data_dir,\"crop\"))\n",
    "# cropd.print_crops_varieties()\n",
    "\n",
    "cropd.set_active_crop('maize', 'Grain_maize_201')\n",
    "# print(yaml.dump(cropd, sort_keys=False, default_flow_style=False))"
   ]
  },
  {
   "cell_type": "markdown",
   "id": "6bf04a2a",
   "metadata": {},
   "source": [
    "#### **1.2. Soil parameters**\n",
    "\n",
    "The default values of soil parameters of WOFOST are derived from the European Soil Database V2.0 that separate the soils in 5 categoties, based on the containts of clay (C) and sand (S): \n",
    "\n",
    "1. Coarse (C < 18% and S > 65%)\n",
    "2. Medium (18 < C < 35% and S > 15% or C < 18% and 15 < S < 65%)\n",
    "3. Medium fine (C < 35% and S < 15%)\n",
    "4. Fine (35 < C < 60%)\n",
    "5. Very fine (C > 60%)\n",
    "\n",
    "Additionally there is a class for Peat soils (no mineral texture, designated by the number *9* and not available in WOFOST)\n",
    "\n",
    "For more, visit the [European soil satabase maps](https://esdac.jrc.ec.europa.eu/resource-type/european-soil-database-maps#)\n",
    "\n",
    "**Note:** Soil class is selected by directly providing an input file (available at the [WOFOST GitHub page](https://github.com/ajwdewit/WOFOST/tree/master/soild)). The default values are loaded as a dictionary. The values then can be changed individually to locally calibrated parameters (if available) or for synthetic values (to assess uncertainty)."
   ]
  },
  {
   "cell_type": "code",
   "execution_count": null,
   "id": "e3e31170",
   "metadata": {},
   "outputs": [],
   "source": [
    "from pcse.fileinput import CABOFileReader\n",
    "\n",
    "soilfile = os.path.join(data_dir, 'soil', 'EC1.NEW')\n",
    "soild = CABOFileReader(soilfile)"
   ]
  },
  {
   "cell_type": "markdown",
   "id": "0035e230",
   "metadata": {},
   "source": [
    "#### 1.3 Site parameters\n",
    "\n",
    "Here we provide a few parameters relevant to the site location. Typically:\n",
    "* WAV - Initial amount of water in rootzone *in excess of wilting point* in cm. Value is limited to SMLIM\n",
    "* SMLIM - Maximum initial soil moisture in rooted zone (will be forced between SMW and SM0) (cm$^3$.cm$^{-3}$)\n",
    "* CO2 - Atmospheric CO2 level in ppm. Default 360"
   ]
  },
  {
   "cell_type": "code",
   "execution_count": null,
   "id": "9d5e61e5",
   "metadata": {},
   "outputs": [],
   "source": [
    "from pcse.util import WOFOST72SiteDataProvider\n",
    "sited = WOFOST72SiteDataProvider(WAV=1) \n",
    "sited['CO2'] = 360\n",
    "print(sited)"
   ]
  },
  {
   "cell_type": "markdown",
   "id": "b5542024",
   "metadata": {},
   "source": [
    "#### 1.4. Packaging all parameters\n",
    "\n",
    "_\"Finally, we need to pack the different sets of parameters into one variable using the `ParameterProvider`. This is needed because PCSE expects one variable that contains all parameter values.\"_"
   ]
  },
  {
   "cell_type": "code",
   "execution_count": null,
   "id": "02cc0e51",
   "metadata": {},
   "outputs": [],
   "source": [
    "from pcse.base import ParameterProvider\n",
    "parameters = ParameterProvider(cropdata=cropd, soildata=soild, sitedata=sited)\n"
   ]
  },
  {
   "cell_type": "markdown",
   "id": "fc05f3f1",
   "metadata": {},
   "source": [
    "**Note:** The parameters values are loaded as a dictionary. The values then can be easily changed here for fine tuning  and tests\n",
    "\n",
    "To assess each one of the parameters dictionaries use:\n",
    "\n",
    "* Soil: parameters._soildata\n",
    "* Crop: parameters._cropdata\n",
    "* Site: parameters._sitedata"
   ]
  },
  {
   "cell_type": "code",
   "execution_count": null,
   "id": "cc06b08f",
   "metadata": {
    "scrolled": true
   },
   "outputs": [],
   "source": [
    "parameters._sitedata"
   ]
  },
  {
   "cell_type": "markdown",
   "id": "1cbc55ce",
   "metadata": {},
   "source": [
    "Also at this stage you can easily change values of parameters"
   ]
  },
  {
   "cell_type": "code",
   "execution_count": null,
   "id": "cdb95def",
   "metadata": {},
   "outputs": [],
   "source": [
    "parameters._sitedata['CO2'] = 396\n",
    "\n",
    "parameters._sitedata"
   ]
  },
  {
   "cell_type": "code",
   "execution_count": null,
   "id": "e8a4d350",
   "metadata": {},
   "outputs": [],
   "source": [
    "parameters._soildata['RDMSOL'] = 120 #max root depth"
   ]
  },
  {
   "cell_type": "markdown",
   "id": "d09733ad",
   "metadata": {},
   "source": [
    "### 2. Read agromanagement\n",
    "\n",
    "The Agromanagement file provides to WOFOST basic information on the begining and end of the simulation for each year. "
   ]
  },
  {
   "cell_type": "code",
   "execution_count": null,
   "id": "c0548d9a",
   "metadata": {},
   "outputs": [],
   "source": [
    "from pcse.fileinput import YAMLAgroManagementReader\n",
    "agromanagement_file = os.path.join(data_dir, 'agro', 'basic.agro')\n",
    "agromanagement = YAMLAgroManagementReader(agromanagement_file)\n",
    "print(agromanagement)"
   ]
  },
  {
   "cell_type": "markdown",
   "id": "7f9d6066",
   "metadata": {},
   "source": [
    "The agromanagement file can be edited as a dictionary"
   ]
  },
  {
   "cell_type": "code",
   "execution_count": null,
   "id": "f9e47fcb",
   "metadata": {},
   "outputs": [],
   "source": [
    "year = 2019"
   ]
  },
  {
   "cell_type": "code",
   "execution_count": null,
   "id": "395ee71a",
   "metadata": {},
   "outputs": [],
   "source": [
    "agromanagement[0][datetime.date(year, 1, 1)] = agromanagement[0][datetime.date(9999, 1, 1)]\n",
    "agromanagement[0].pop(datetime.date(9999, 1, 1))\n",
    "\n",
    "print(agromanagement)"
   ]
  },
  {
   "cell_type": "code",
   "execution_count": null,
   "id": "5ce817bc",
   "metadata": {},
   "outputs": [],
   "source": [
    "agromanagement[0][datetime.date(year, 1, 1)]['CropCalendar']['crop_name'] = parameters._cropdata.current_crop_name\n",
    "agromanagement[0][datetime.date(year, 1, 1)]['CropCalendar']['variety_name'] = parameters._cropdata.current_variety_name\n",
    "agromanagement[0][datetime.date(year, 1, 1)]['CropCalendar']['crop_start_date'] = datetime.date(year, 4, 24)\n",
    "agromanagement[0][datetime.date(year, 1, 1)]['CropCalendar']['crop_start_type'] = 'sowing' #or \"emergence\"\n",
    "agromanagement[0][datetime.date(year, 1, 1)]['CropCalendar']['crop_end_date'] = datetime.date(year, 11, 26)\n",
    "agromanagement[0][datetime.date(year, 1, 1)]['CropCalendar']['crop_end_type'] = \"harvest\" #or \"maturity\"\n",
    "agromanagement[0][datetime.date(year, 1, 1)]['CropCalendar']['max_duration'] = 264\n",
    "\n",
    "print(agromanagement)"
   ]
  },
  {
   "cell_type": "markdown",
   "id": "b5f3f8cf",
   "metadata": {},
   "source": [
    "### 3. Weather data\n",
    "\n",
    "Currently the easiest way to load weather data into WOFOST is using Excel files. A script in `R` was prepared to help generating these files from DWD data, however, it is not possible to read them directly, as most cells are interpreted as text instead of numeric.\n",
    "To solve this, the solution is to manually copy the generated files in R into a original (`basic_weather.xls`) with attention to make all cells as numeric (except dates)."
   ]
  },
  {
   "cell_type": "code",
   "execution_count": null,
   "id": "3809a4b8",
   "metadata": {},
   "outputs": [],
   "source": [
    "from pcse.fileinput import ExcelWeatherDataProvider\n",
    "\n",
    "weatherfile = os.path.join(data_dir, 'meteo', 'potsdam1.xlsx') # potsdam1.xls\n",
    "wdp = ExcelWeatherDataProvider(weatherfile)\n",
    "\n",
    "print(wdp)"
   ]
  },
  {
   "cell_type": "code",
   "execution_count": null,
   "id": "cf0bd353",
   "metadata": {},
   "outputs": [],
   "source": [
    "df_inputs = pd.DataFrame(wdp.export())\n",
    "df_inputs.columns"
   ]
  },
  {
   "cell_type": "markdown",
   "id": "c4fedfac",
   "metadata": {},
   "source": [
    "### 4. Processing WOFOST\n",
    "\n",
    "Once the parameters and set, weather data provider loaded and agromanagement defined, the model can be run. \n",
    "\n",
    "Here we process the water limited and potential production scenarios"
   ]
  },
  {
   "cell_type": "code",
   "execution_count": null,
   "id": "4a2e9977",
   "metadata": {},
   "outputs": [],
   "source": [
    "from pcse.models import Wofost72_WLP_FD, Wofost72_PP\n",
    "wofsim_wlp = Wofost72_WLP_FD(parameters, wdp, agromanagement) # water limited production\n",
    "wofsim_pp = Wofost72_PP(parameters, wdp, agromanagement) # potential production"
   ]
  },
  {
   "cell_type": "code",
   "execution_count": null,
   "id": "58689cd8",
   "metadata": {},
   "outputs": [],
   "source": [
    "wofsim_wlp.run_till_terminate()\n",
    "df_results_wlp = pd.DataFrame(wofsim_wlp.get_output())\n",
    "df_results_wlp = df_results_wlp.set_index(\"day\")\n",
    "df_results_wlp.tail()"
   ]
  },
  {
   "cell_type": "code",
   "execution_count": null,
   "id": "0cba6d9d",
   "metadata": {
    "scrolled": true
   },
   "outputs": [],
   "source": [
    "wofsim_pp.run_till_terminate()\n",
    "df_results_pp = pd.DataFrame(wofsim_pp.get_output())\n",
    "df_results_pp = df_results_pp.set_index(\"day\")\n",
    "df_results_pp.tail()"
   ]
  },
  {
   "cell_type": "markdown",
   "id": "476cb808",
   "metadata": {},
   "source": [
    "**Visualization**"
   ]
  },
  {
   "cell_type": "code",
   "execution_count": null,
   "id": "f1741e14",
   "metadata": {
    "scrolled": true
   },
   "outputs": [],
   "source": [
    "df_results_wlp['type'] = 'wlp'\n",
    "df_results_pp['type'] = 'pp'\n",
    "\n",
    "df = pd.concat([df_results_wlp, df_results_pp]).reset_index(drop=False)\n",
    "\n",
    "df.tail()"
   ]
  },
  {
   "cell_type": "code",
   "execution_count": null,
   "id": "cad49f9b",
   "metadata": {},
   "outputs": [],
   "source": [
    "df_results_wlp['ET0'] = pd.DataFrame(wdp.export())['ET0']"
   ]
  },
  {
   "cell_type": "code",
   "execution_count": null,
   "id": "6b83dbd3",
   "metadata": {},
   "outputs": [],
   "source": [
    "df['month'] = pd.DatetimeIndex(df['day']).month\n"
   ]
  },
  {
   "cell_type": "code",
   "execution_count": null,
   "id": "932e9887",
   "metadata": {},
   "outputs": [],
   "source": [
    "sns.set(rc={'figure.figsize':(15,15)})\n",
    "from matplotlib.gridspec import GridSpec\n",
    "from matplotlib.dates import DateFormatter\n",
    "\n",
    "fig = plt.figure(constrained_layout=False)\n",
    "gs = GridSpec(3, 2, figure=fig)\n",
    "fig.subplots_adjust(hspace=0.5, wspace=0.3)\n",
    "date_form = DateFormatter(\"%m\")\n",
    "# ax.xaxis.set_major_formatter(date_form)\n",
    "\n",
    "ax1 = fig.add_subplot(gs[0, 0]).xaxis.set_major_formatter(date_form)\n",
    "sns.lineplot(data=df, x = 'day', y = 'TAGP', hue = 'type', ci=None,\n",
    "            palette = ['red', 'blue']).set(title='TAPG Gap {}'.format(year), xlabel = None, xticklabels=[])\n",
    "\n",
    "ax2 = fig.add_subplot(gs[0, 1]).xaxis.set_major_formatter(date_form)\n",
    "sns.lineplot(data=df, x = 'day', y = 'LAI', hue = 'type', ci=None,\n",
    "            palette = ['red', 'blue']).set(title='LAI Gap {}'.format(year), xlabel = None, xticklabels=[])\n",
    "\n",
    "ax3 = fig.add_subplot(gs[1, 0]).xaxis.set_major_formatter(date_form)\n",
    "sns.lineplot(data=df, x = 'day', y = 'TWSO', hue = 'type', ci=None,\n",
    "            palette = ['red', 'blue']).set(title='TWSO Gap {}'.format(year),xlabel = 'Month')\n",
    "\n",
    "ax4 = fig.add_subplot(gs[1, 1]).xaxis.set_major_formatter(date_form)\n",
    "sns.lineplot(data=df, x = 'day', y = 'TRA', hue = 'type', ci=None,\n",
    "            palette = ['red', 'blue']).set(title='TRA Gap {}'.format(year),xlabel = 'Month')\n",
    "\n",
    "ax5 = fig.add_subplot(gs[2, :]).xaxis.set_major_formatter(date_form)\n",
    "sns.lineplot(data=df, x = 'day', y = 'SM', hue = 'type', ci=None,\n",
    "            palette = ['red', 'blue']).set(title='SW Gap {}'.format(year),xlabel = 'Month')\n",
    "\n",
    "plt.show()"
   ]
  },
  {
   "cell_type": "code",
   "execution_count": null,
   "id": "c3367ff7",
   "metadata": {},
   "outputs": [],
   "source": [
    "df_input = pd.DataFrame(wdp.export())\n",
    "df_input = df_input[pd.DatetimeIndex(df_input['DAY']).year  == 2019]\n",
    "df_input_plot = df_input[[\"DAY\", \"ET0\", \"RAIN\", \"TMAX\", \"TMIN\"]]\n",
    "df_input_plot[\"SM\"] = df_results_wlp[\"SM\"]\n",
    "df_input_plot[\"TEMP\"] = (df_input_plot[\"TMAX\"] + df_input_plot[\"TMIN\"])/2\n",
    "df_input_plot[\"RAIN_mm\"] =  df_input_plot[\"RAIN\"]*10\n",
    "df_input_plot[\"ET0_mm\"] =  df_input_plot[\"ET0\"]*10\n",
    "df_input_plot.tail()"
   ]
  },
  {
   "cell_type": "code",
   "execution_count": null,
   "id": "390d5425",
   "metadata": {},
   "outputs": [],
   "source": [
    "sns.set(rc={'figure.figsize':(15,15)})\n",
    "from matplotlib.gridspec import GridSpec\n",
    "from matplotlib.dates import DateFormatter\n",
    "\n",
    "fig = plt.figure(constrained_layout=False)\n",
    "gs = GridSpec(3, 1, figure=fig)\n",
    "fig.subplots_adjust(hspace=0.2, wspace=0.3)\n",
    "date_form = DateFormatter(\"%m\")\n",
    "\n",
    "ax1 = fig.add_subplot(gs[0, 0]).xaxis.set_major_formatter(date_form)\n",
    "sns.lineplot(data=df_input_plot, x = 'DAY', y = 'RAIN_mm', ci=None, color = 'blue'\n",
    "            ).set(title='Precipitation', xlabel = None, xticklabels=[], ylabel = 'P (mm/day)')\n",
    "\n",
    "ax2 = fig.add_subplot(gs[1, 0]).xaxis.set_major_formatter(date_form)\n",
    "sns.lineplot(data=df_input_plot, x = 'DAY', y = 'TEMP', ci=None, color = 'blue'\n",
    "            ).set(title='Temperature', xlabel = None, xticklabels=[])\n",
    "sns.lineplot(data=df_input_plot, x = 'DAY', y = 'TMAX', ci=None, color = 'grey', linewidth = 0.6,\n",
    "            ).set(title='Temperature', xlabel = None, xticklabels=[])\n",
    "sns.lineplot(data=df_input_plot, x = 'DAY', y = 'TMIN', ci=None, color = 'grey', linewidth = 0.6,\n",
    "            ).set(title='Temperature', xlabel = None, xticklabels=[], ylabel = 'T (Celcius)')\n",
    "\n",
    "\n",
    "\n",
    "ax3 = fig.add_subplot(gs[2, 0]).xaxis.set_major_formatter(date_form)\n",
    "sns.lineplot(data=df_input_plot, x = 'DAY', y = 'ET0_mm', ci=None, color = 'blue'\n",
    "            ).set(title='Potential evapotranspiration',xlabel = 'Month',ylabel = 'ET0 (mm/day)')\n",
    "\n",
    "\n",
    "\n",
    "plt.show()"
   ]
  },
  {
   "cell_type": "code",
   "execution_count": null,
   "id": "7a1a935d",
   "metadata": {
    "scrolled": true
   },
   "outputs": [],
   "source": [
    "import plotly.graph_objects as go\n",
    "\n",
    "# Create random data with numpy\n",
    "import numpy as np\n",
    "np.random.seed(1)\n",
    "\n",
    "N = 100\n",
    "random_x = np.linspace(0, 1, N)\n",
    "random_y0 = np.random.randn(N) + 5\n",
    "random_y1 = np.random.randn(N)\n",
    "random_y2 = np.random.randn(N) - 5\n",
    "\n",
    "# Create traces\n",
    "fig = go.Figure()\n",
    "fig.add_trace(go.bar(x=df_test['DAY'], y=df_test['RAIN'],\n",
    "                    name='Rain'))\n",
    "fig.add_trace(go.Scatter(x=df_test['DAY'], y=df_test['ET0'],\n",
    "                    mode='lines',\n",
    "                    name='ET0'))\n",
    "fig.add_trace(go.Scatter(x=df_test['DAY'], y=df_test['TMAX'],\n",
    "                    mode='lines', name='TMAX'))\n",
    "\n",
    "fig.show()\n"
   ]
  },
  {
   "cell_type": "code",
   "execution_count": null,
   "id": "cc482929",
   "metadata": {},
   "outputs": [],
   "source": [
    "import plotly.express as px\n",
    "import plotly.graph_objects as go\n",
    "from plotly.subplots import make_subplots\n",
    "\n",
    "fig = make_subplots(specs=[[{\"secondary_y\": True}]])\n",
    "\n",
    "fig.add_trace(\n",
    "    go.Scatter(x=df_input_plot[\"DAY\"], y=df_input_plot[\"TEMP\"], name = 'Temp'),\n",
    "    secondary_y=False,    \n",
    ")\n",
    "\n",
    "fig.add_trace(\n",
    "    go.Bar(x=df_input_plot[\"DAY\"], y=df_input_plot[\"RAIN_mm\"], name=\"Rain\"),\n",
    "    secondary_y=True,\n",
    ")\n",
    "    \n",
    "\n",
    "fig.update_layout(\n",
    "    title_text=\"Double Y Axis Example\"\n",
    ")\n",
    "\n",
    "# Set x-axis title\n",
    "fig.update_xaxes(title_text=\"Date\")\n",
    "\n",
    "# Set y-axes titles\n",
    "fig.update_yaxes(title_text=\"Temperature (Celcius)\", secondary_y=False, range = [-20, 40])\n",
    "fig.update_yaxes(title_text=\"Precipitation (mm)\", secondary_y=True, range = [120, 0])\n",
    "\n",
    "\n",
    "\n",
    "# fig = px.line(x=df_input_plot[\"DAY\"], y=df_input_plot[\"TEMP\"], color=px.Constant(\"Temperature\"),\n",
    "#               labels=dict(x=\"Date\", y=\"Temperature (Celcius)\", color=\"Legend\"))\n",
    "# fig.add_bar(x=df_input_plot[\"DAY\"], y=df_input_plot[\"RAIN_mm\"], name=\"Rain\")\n",
    "# fig.show()"
   ]
  },
  {
   "cell_type": "markdown",
   "id": "cf426c16",
   "metadata": {},
   "source": [
    "# Exercise"
   ]
  },
  {
   "cell_type": "markdown",
   "id": "2050b23a",
   "metadata": {},
   "source": [
    "For the same parameters, repeat the process for the years 2017 and 1982. \n",
    "\n",
    "* What happened in those years?\n",
    "* Try changing other parameters and see the impact. Are there crops that suffer less with drought? What if you start the crop cycle earlier?\n",
    "\n"
   ]
  },
  {
   "cell_type": "code",
   "execution_count": null,
   "id": "ad89f7c1",
   "metadata": {},
   "outputs": [],
   "source": []
  }
 ],
 "metadata": {
  "kernelspec": {
   "display_name": "Python 3 (ipykernel)",
   "language": "python",
   "name": "python3"
  },
  "language_info": {
   "codemirror_mode": {
    "name": "ipython",
    "version": 3
   },
   "file_extension": ".py",
   "mimetype": "text/x-python",
   "name": "python",
   "nbconvert_exporter": "python",
   "pygments_lexer": "ipython3",
   "version": "3.9.12"
  }
 },
 "nbformat": 4,
 "nbformat_minor": 5
}
